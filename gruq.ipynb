{
 "cells": [
  {
   "cell_type": "code",
   "execution_count": 1,
   "metadata": {},
   "outputs": [],
   "source": [
    "%load_ext autoreload\n",
    "%autoreload"
   ]
  },
  {
   "cell_type": "code",
   "execution_count": 3,
   "metadata": {},
   "outputs": [
    {
     "data": {
      "text/plain": [
       "False"
      ]
     },
     "execution_count": 3,
     "metadata": {},
     "output_type": "execute_result"
    }
   ],
   "source": [
    "from dotenv import load_dotenv\n",
    "load_dotenv()"
   ]
  },
  {
   "cell_type": "code",
   "execution_count": 4,
   "metadata": {},
   "outputs": [],
   "source": [
    "import requests\n",
    "from bs4 import BeautifulSoup\n",
    "import dspy\n",
    "\n",
    "res = requests.get(\"https://grugbrain.dev/\")\n",
    "soup = BeautifulSoup(res.text, 'html.parser')\n",
    "raw_text = [p.text for p in soup.find_all('p') if p.text]"
   ]
  },
  {
   "cell_type": "code",
   "execution_count": 5,
   "metadata": {},
   "outputs": [
    {
     "data": {
      "text/plain": [
       "['this collection of thoughts on software development gathered by grug brain developer',\n",
       " 'grug brain developer not so smart, but grug brain developer program many long year and learn some things\\nalthough mostly still confused',\n",
       " 'grug brain developer try collect learns into small, easily digestible and funny page, not only for you, the young grug, but also for him\\nbecause as grug brain developer get older he forget important things, like what had for breakfast or if put pants on',\n",
       " 'big brained developers are many, and some not expected to like this, make sour face',\n",
       " 'THINK they are big brained developers many, many more, and more even definitely probably maybe not like this, many\\nsour face (such is internet)',\n",
       " '(note: grug once think big brained but learn hard way)',\n",
       " 'is fine!',\n",
       " 'is free country sort of and end of day not really matter too much, but grug hope you fun reading and maybe learn from\\nmany, many mistake grug make over long program life',\n",
       " 'apex predator of grug is complexity',\n",
       " 'complexity bad']"
      ]
     },
     "execution_count": 5,
     "metadata": {},
     "output_type": "execute_result"
    }
   ],
   "source": [
    "raw_text[:10]"
   ]
  },
  {
   "cell_type": "code",
   "execution_count": 7,
   "metadata": {},
   "outputs": [
    {
     "name": "stdout",
     "output_type": "stream",
     "text": [
      "Raw text has been written to /home/manuel/code/others/llms/dspy-grug/data/raw-text.txt\n"
     ]
    }
   ],
   "source": [
    "import os\n",
    "\n",
    "# Create the directory path\n",
    "dir_path = os.path.expanduser(\"~/code/others/llms/dspy-grug/data\")\n",
    "\n",
    "# Create the directory if it doesn't exist\n",
    "os.makedirs(dir_path, exist_ok=True)\n",
    "\n",
    "# Write the raw_text to the file\n",
    "file_path = os.path.join(dir_path, \"raw-text.txt\")\n",
    "with open(file_path, \"w\") as f:\n",
    "    for line in raw_text:\n",
    "        f.write(line + \"\\n\")\n",
    "\n",
    "print(f\"Raw text has been written to {file_path}\")\n"
   ]
  }
 ],
 "metadata": {
  "kernelspec": {
   "display_name": "3.11.3-langchain",
   "language": "python",
   "name": "python3"
  },
  "language_info": {
   "codemirror_mode": {
    "name": "ipython",
    "version": 3
   },
   "file_extension": ".py",
   "mimetype": "text/x-python",
   "name": "python",
   "nbconvert_exporter": "python",
   "pygments_lexer": "ipython3",
   "version": "3.11.3"
  }
 },
 "nbformat": 4,
 "nbformat_minor": 2
}
